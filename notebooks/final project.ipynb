{
 "cells": [
  {
   "cell_type": "markdown",
   "id": "b4c26ad6",
   "metadata": {},
   "source": [
    "<center> <img src = https://raw.githubusercontent.com/AndreyRysistov/DatasetsForPandas/main/hh%20label.jpg alt=\"drawing\" style=\"width:400px;\">"
   ]
  },
  {
   "cell_type": "markdown",
   "id": "04129563",
   "metadata": {},
   "source": [
    "# <center> Проект: Анализ вакансий из HeadHunter\n",
    "   "
   ]
  },
  {
   "cell_type": "code",
   "execution_count": null,
   "id": "4b0e2334",
   "metadata": {},
   "outputs": [],
   "source": [
    "import pandas as pd\n",
    "import psycopg2"
   ]
  },
  {
   "cell_type": "markdown",
   "id": "7e2fa744",
   "metadata": {},
   "source": [
    "# Последовательность действий"
   ]
  },
  {
   "cell_type": "markdown",
   "id": "c3b91526",
   "metadata": {},
   "source": [
    "Описание действий "
   ]
  },
  {
   "cell_type": "code",
   "execution_count": null,
   "id": "336b8f65",
   "metadata": {},
   "outputs": [],
   "source": [
    "# код:\n"
   ]
  }
 ],
 "metadata": {
  "language_info": {
   "name": "python"
  }
 },
 "nbformat": 4,
 "nbformat_minor": 5
}
